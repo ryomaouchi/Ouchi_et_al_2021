{
 "cells": [
  {
   "cell_type": "code",
   "execution_count": 75,
   "metadata": {},
   "outputs": [
    {
     "name": "stdout",
     "output_type": "stream",
     "text": [
      "CCNi_values_Ouchi.csv      CCNi_values_Ouchi_Ib.csv\r\n",
      "CCNi_values_Ouchi.ods      Untitled.ipynb\r\n",
      "CCNi_values_Ouchi_IIb.csv\r\n"
     ]
    }
   ],
   "source": [
    "ls"
   ]
  },
  {
   "cell_type": "code",
   "execution_count": 1,
   "metadata": {},
   "outputs": [],
   "source": [
    "import pandas as pd\n",
    "import numpy as np\n",
    "import matplotlib.pyplot as plt"
   ]
  },
  {
   "cell_type": "code",
   "execution_count": 12,
   "metadata": {},
   "outputs": [],
   "source": [
    "data_II = pd.read_csv(\"CCNi_values_Ouchi_add_new_papers_II.csv\")\n",
    "data_IIb = pd.read_csv(\"CCNi_values_Ouchi_add_new_papers_IIb.csv\")\n",
    "data_Ib = pd.read_csv(\"CCNi_values_Ouchi_add_new_papers_Ib.csv\")\n",
    "data_Ic = pd.read_csv(\"CCNi_values_Ouchi_add_new_papers_Ic.csv\")\n",
    "#data_Ibc = pd.read_csv(\"CCNi_values_Ouchi_add_new_papers_Ibc.csv\")\n",
    "data_IcBL = pd.read_csv(\"CCNi_values_Ouchi_add_new_papers_IcBL.csv\")"
   ]
  },
  {
   "cell_type": "code",
   "execution_count": null,
   "metadata": {},
   "outputs": [],
   "source": []
  },
  {
   "cell_type": "code",
   "execution_count": null,
   "metadata": {},
   "outputs": [],
   "source": []
  },
  {
   "cell_type": "code",
   "execution_count": 13,
   "metadata": {},
   "outputs": [],
   "source": [
    "data_II_new = data_II.dropna(subset=['SN']).dropna(subset=['Distance'])\n",
    "data_IIb_new = data_IIb.dropna(subset=['SN']).dropna(subset=['Distance'])\n",
    "data_Ib_new = data_Ib.dropna(subset=['SN']).dropna(subset=['Distance'])\n",
    "data_Ic_new = data_Ic.dropna(subset=['SN']).dropna(subset=['Distance'])\n",
    "#data_Ibc_new = data_Ibc.dropna(subset=['SN']).dropna(subset=['Distance'])\n",
    "data_IcBL_new = data_IcBL.dropna(subset=['SN']).dropna(subset=['Distance'])"
   ]
  },
  {
   "cell_type": "code",
   "execution_count": 14,
   "metadata": {},
   "outputs": [
    {
     "data": {
      "text/html": [
       "<div>\n",
       "<style scoped>\n",
       "    .dataframe tbody tr th:only-of-type {\n",
       "        vertical-align: middle;\n",
       "    }\n",
       "\n",
       "    .dataframe tbody tr th {\n",
       "        vertical-align: top;\n",
       "    }\n",
       "\n",
       "    .dataframe thead th {\n",
       "        text-align: right;\n",
       "    }\n",
       "</style>\n",
       "<table border=\"1\" class=\"dataframe\">\n",
       "  <thead>\n",
       "    <tr style=\"text-align: right;\">\n",
       "      <th></th>\n",
       "      <th>SN</th>\n",
       "      <th>NI56 mass</th>\n",
       "      <th>Average/single value</th>\n",
       "      <th>std dev</th>\n",
       "      <th>Reference</th>\n",
       "      <th>Host_galaxy</th>\n",
       "      <th>Distance</th>\n",
       "      <th>Unnamed: 7</th>\n",
       "      <th>Reference for distance</th>\n",
       "    </tr>\n",
       "  </thead>\n",
       "  <tbody>\n",
       "    <tr>\n",
       "      <th>0</th>\n",
       "      <td>SN1969L</td>\n",
       "      <td>0.0820</td>\n",
       "      <td>0.0745</td>\n",
       "      <td>0.0106</td>\n",
       "      <td>Hamuy03</td>\n",
       "      <td>NaN</td>\n",
       "      <td>5.2</td>\n",
       "      <td>NaN</td>\n",
       "      <td>NaN</td>\n",
       "    </tr>\n",
       "    <tr>\n",
       "      <th>2</th>\n",
       "      <td>SN1970G</td>\n",
       "      <td>0.0370</td>\n",
       "      <td>0.0440</td>\n",
       "      <td>0.0099</td>\n",
       "      <td>Hamuy03</td>\n",
       "      <td>NaN</td>\n",
       "      <td>6.6</td>\n",
       "      <td>NaN</td>\n",
       "      <td>NaN</td>\n",
       "    </tr>\n",
       "    <tr>\n",
       "      <th>4</th>\n",
       "      <td>SN1973R</td>\n",
       "      <td>0.0840</td>\n",
       "      <td>0.0840</td>\n",
       "      <td>NaN</td>\n",
       "      <td>Hamuy03</td>\n",
       "      <td>NaN</td>\n",
       "      <td>9.6</td>\n",
       "      <td>NaN</td>\n",
       "      <td>NaN</td>\n",
       "    </tr>\n",
       "    <tr>\n",
       "      <th>5</th>\n",
       "      <td>SN1980K</td>\n",
       "      <td>0.0061</td>\n",
       "      <td>0.0061</td>\n",
       "      <td>NaN</td>\n",
       "      <td>Pejcha&amp;Prieto15</td>\n",
       "      <td>NaN</td>\n",
       "      <td>5.5</td>\n",
       "      <td>NaN</td>\n",
       "      <td>NaN</td>\n",
       "    </tr>\n",
       "    <tr>\n",
       "      <th>6</th>\n",
       "      <td>SN1983K</td>\n",
       "      <td>0.0560</td>\n",
       "      <td>0.0560</td>\n",
       "      <td>NaN</td>\n",
       "      <td>Rodriguez+20</td>\n",
       "      <td>NGC 4699</td>\n",
       "      <td>19.7</td>\n",
       "      <td>NaN</td>\n",
       "      <td>NaN</td>\n",
       "    </tr>\n",
       "    <tr>\n",
       "      <th>...</th>\n",
       "      <td>...</td>\n",
       "      <td>...</td>\n",
       "      <td>...</td>\n",
       "      <td>...</td>\n",
       "      <td>...</td>\n",
       "      <td>...</td>\n",
       "      <td>...</td>\n",
       "      <td>...</td>\n",
       "      <td>...</td>\n",
       "    </tr>\n",
       "    <tr>\n",
       "      <th>261</th>\n",
       "      <td>SN2017eaw</td>\n",
       "      <td>0.0500</td>\n",
       "      <td>0.0701</td>\n",
       "      <td>NaN</td>\n",
       "      <td>Tsvetkov+18</td>\n",
       "      <td>NaN</td>\n",
       "      <td>5.5</td>\n",
       "      <td>NaN</td>\n",
       "      <td>NaN</td>\n",
       "    </tr>\n",
       "    <tr>\n",
       "      <th>265</th>\n",
       "      <td>SN2017gmr</td>\n",
       "      <td>0.1300</td>\n",
       "      <td>0.1300</td>\n",
       "      <td>NaN</td>\n",
       "      <td>Andrews+19</td>\n",
       "      <td>NGC 988</td>\n",
       "      <td>15.3</td>\n",
       "      <td>NaN</td>\n",
       "      <td>NaN</td>\n",
       "    </tr>\n",
       "    <tr>\n",
       "      <th>266</th>\n",
       "      <td>SN2018hna</td>\n",
       "      <td>0.0870</td>\n",
       "      <td>0.0870</td>\n",
       "      <td>NaN</td>\n",
       "      <td>Singh+19</td>\n",
       "      <td>UGC 7534</td>\n",
       "      <td>12.8</td>\n",
       "      <td>NaN</td>\n",
       "      <td>NaN</td>\n",
       "    </tr>\n",
       "    <tr>\n",
       "      <th>267</th>\n",
       "      <td>SN2018ivc</td>\n",
       "      <td>0.0056</td>\n",
       "      <td>0.0056</td>\n",
       "      <td>NaN</td>\n",
       "      <td>Bostroem+20</td>\n",
       "      <td>M77</td>\n",
       "      <td>10.6</td>\n",
       "      <td>NaN</td>\n",
       "      <td>NaN</td>\n",
       "    </tr>\n",
       "    <tr>\n",
       "      <th>268</th>\n",
       "      <td>PSN J17292918+7542390</td>\n",
       "      <td>0.0016</td>\n",
       "      <td>0.0016</td>\n",
       "      <td>NaN</td>\n",
       "      <td>Jager+20</td>\n",
       "      <td>NGC 6412</td>\n",
       "      <td>15.3</td>\n",
       "      <td>NaN</td>\n",
       "      <td>NaN</td>\n",
       "    </tr>\n",
       "  </tbody>\n",
       "</table>\n",
       "<p>130 rows × 9 columns</p>\n",
       "</div>"
      ],
      "text/plain": [
       "                         SN  NI56 mass  Average/single value  std dev  \\\n",
       "0                   SN1969L     0.0820                0.0745   0.0106   \n",
       "2                   SN1970G     0.0370                0.0440   0.0099   \n",
       "4                   SN1973R     0.0840                0.0840      NaN   \n",
       "5                   SN1980K     0.0061                0.0061      NaN   \n",
       "6                   SN1983K     0.0560                0.0560      NaN   \n",
       "..                      ...        ...                   ...      ...   \n",
       "261               SN2017eaw     0.0500                0.0701      NaN   \n",
       "265               SN2017gmr     0.1300                0.1300      NaN   \n",
       "266               SN2018hna     0.0870                0.0870      NaN   \n",
       "267               SN2018ivc     0.0056                0.0056      NaN   \n",
       "268  PSN J17292918+7542390      0.0016                0.0016      NaN   \n",
       "\n",
       "           Reference Host_galaxy  Distance  Unnamed: 7 Reference for distance  \n",
       "0            Hamuy03         NaN       5.2         NaN                    NaN  \n",
       "2            Hamuy03         NaN       6.6         NaN                    NaN  \n",
       "4            Hamuy03         NaN       9.6         NaN                    NaN  \n",
       "5    Pejcha&Prieto15         NaN       5.5         NaN                    NaN  \n",
       "6       Rodriguez+20    NGC 4699      19.7         NaN                    NaN  \n",
       "..               ...         ...       ...         ...                    ...  \n",
       "261      Tsvetkov+18         NaN       5.5         NaN                    NaN  \n",
       "265       Andrews+19     NGC 988      15.3         NaN                    NaN  \n",
       "266         Singh+19    UGC 7534      12.8         NaN                    NaN  \n",
       "267      Bostroem+20         M77      10.6         NaN                    NaN  \n",
       "268         Jager+20    NGC 6412      15.3         NaN                    NaN  \n",
       "\n",
       "[130 rows x 9 columns]"
      ]
     },
     "execution_count": 14,
     "metadata": {},
     "output_type": "execute_result"
    }
   ],
   "source": [
    "data_II_new.head(200)"
   ]
  },
  {
   "cell_type": "code",
   "execution_count": 15,
   "metadata": {},
   "outputs": [
    {
     "name": "stdout",
     "output_type": "stream",
     "text": [
      "130\n",
      "32\n",
      "43\n",
      "58\n",
      "55\n"
     ]
    }
   ],
   "source": [
    "print(len(data_II_new['SN']))\n",
    "print(len(data_IIb_new['SN']))\n",
    "print(len(data_Ib_new['SN']))\n",
    "print(len(data_Ic_new['SN']))\n",
    "#print(len(data_Ibc_new['SN']))\n",
    "print(len(data_IcBL_new['SN']))\n",
    "\n",
    "#print(len(data_IIb_new['SN'])+len(data_Ib_new['SN'])+len(data_Ibc_new['SN'])+len(data_Ic_new['SN'])+len(data_IcBL_new['SN']))\n",
    "#print(len(data_Ibc_new['SN']))"
   ]
  },
  {
   "cell_type": "code",
   "execution_count": 16,
   "metadata": {},
   "outputs": [],
   "source": [
    "ni_avg_II = data_II_new['Average/single value'].values\n",
    "distance_II = data_II_new['Distance'].values\n",
    "\n",
    "ni_avg_IIb = data_IIb_new['Average/single value'].values\n",
    "distance_IIb = data_IIb_new['Distance'].values\n",
    "\n",
    "ni_avg_Ib = data_Ib_new['Average/single values'].values\n",
    "distance_Ib = data_Ib_new['Distance'].values\n",
    "\n",
    "ni_avg_Ic = data_Ic_new['Average/single values'].values\n",
    "distance_Ic = data_Ic_new['Distance'].values\n",
    "\n",
    "#ni_avg_Ibc = data_Ibc_new['Average/single values'].values\n",
    "#distance_Ibc = data_Ibc_new['Distance'].values\n",
    "\n",
    "ni_avg_IcBL = data_IcBL_new['Average/single values'].values\n",
    "distance_IcBL = data_IcBL_new['Distance'].values"
   ]
  },
  {
   "cell_type": "code",
   "execution_count": 17,
   "metadata": {},
   "outputs": [],
   "source": [
    "ni_avg_SESNe_excludingIcBL = np.concatenate([ni_avg_IIb,ni_avg_Ib])\n",
    "ni_avg_SESNe_excludingIcBL  = np.concatenate([ni_avg_SESNe_excludingIcBL, ni_avg_Ic])\n",
    "#ni_avg_SESNe_excludingIcBL  = np.concatenate([ni_avg_SESNe_excludingIcBL, ni_avg_Ibc])\n",
    "ni_avg_SESNe  = np.concatenate([ni_avg_SESNe_excludingIcBL, ni_avg_IcBL])\n",
    "\n",
    "distance_SESNe_excludingIcBL = np.concatenate([distance_IIb, distance_Ib])\n",
    "distance_SESNe_excludingIcBL  = np.concatenate([distance_SESNe_excludingIcBL, distance_Ic])\n",
    "#distance_SESNe_excludingIcBL  = np.concatenate([distance_SESNe_excludingIcBL, distance_Ibc])\n",
    "distance_SESNe  = np.concatenate([distance_SESNe_excludingIcBL, distance_IcBL])"
   ]
  },
  {
   "cell_type": "code",
   "execution_count": 18,
   "metadata": {},
   "outputs": [
    {
     "name": "stdout",
     "output_type": "stream",
     "text": [
      "188\n",
      "188\n"
     ]
    }
   ],
   "source": [
    "print(len(distance_SESNe))\n",
    "print(len(ni_avg_SESNe))"
   ]
  },
  {
   "cell_type": "code",
   "execution_count": 19,
   "metadata": {},
   "outputs": [
    {
     "data": {
      "text/plain": [
       "array([   3.7  ,   14.3  ,    9.3  ,   19.1  ,   87.9  ,   72.5  ,\n",
       "         99.5  ,  106.6  ,   30.1  ,   79.4  ,  110.   ,   70.1  ,\n",
       "         32.   ,    6.2  ,   40.2  ,  108.1  ,   40.   ,   27.4  ,\n",
       "          7.2  ,   28.7  ,   80.3  ,   21.3  ,   24.7  ,   87.1  ,\n",
       "        119.5  ,   18.1  ,   17.8  ,   20.9  ,   45.2  ,   10.5  ,\n",
       "         55.1  ,  263.   ,    6.5  ,    8.8  ,   46.4  ,   29.1  ,\n",
       "         42.6  ,   26.8  ,   20.8  ,   57.9  ,   24.4  ,   85.3  ,\n",
       "         88.3  ,   81.   ,  100.4  ,  151.6  ,   49.1  ,   70.   ,\n",
       "         51.1  ,   82.7  ,   39.6  ,   29.9  ,  345.8  ,   59.2  ,\n",
       "         22.7  ,   16.8  ,   77.9  ,  393.9  ,   28.7  ,   28.7  ,\n",
       "        207.6  ,   61.9  ,   28.3  ,   22.9  ,   98.   ,  244.2  ,\n",
       "         24.7  ,   50.9  ,   19.32 ,   13.4  ,   60.   ,   48.6  ,\n",
       "         44.5  ,  111.17 ,   45.3  ,    7.4  ,   13.7  ,   16.6  ,\n",
       "         20.4  ,   21.   ,  801.7  ,    7.2  ,   15.7  ,   55.   ,\n",
       "         79.2  ,   47.7  ,   76.1  ,   72.5  ,   72.5  ,   20.6  ,\n",
       "         21.1  ,   34.2  ,   39.5  ,   88.3  ,   58.7  ,  105.   ,\n",
       "         75.7  ,  121.9  ,   72.6  ,  303.4  ,   82.2  ,  114.8  ,\n",
       "          5.2  ,  113.3  ,  165.2  ,  433.5  ,  348.3  ,   56.2  ,\n",
       "        165.2  ,   83.3  ,    4.6  ,   48.7  ,   64.5  ,  126.2  ,\n",
       "        169.8  ,  117.8  ,  268.5  ,   39.3  ,   62.4  ,   18.1  ,\n",
       "        284.5  ,   15.2  ,  200.   ,  232.   ,   17.2  ,   17.9  ,\n",
       "         68.7  ,  102.802,   12.7  ,  156.315,  106.5  ,  109.   ,\n",
       "         47.5  ,   37.   ,    7.5  ,  695.   ,   82.9  ,  475.   ,\n",
       "        605.3  ,  438.5  ,  124.   ,  132.4  ,  682.3  ,  622.3  ,\n",
       "        103.8  ,  170.9  ,   69.1  , 2951.2  ,   40.2  ,  417.5  ,\n",
       "       2628.   ,  216.   ,  297.9  ,  244.3  , 3020.   ,  288.5  ,\n",
       "        224.8  ,  540.   ,  454.1  ,  414.9  ,  356.7  ,  246.9  ,\n",
       "        436.3  ,  491.7  ,  755.3  ,  168.7  ,  150.8  ,  400.1  ,\n",
       "         62.4  ,   39.3  , 1153.5  ,  693.2  , 1729.8  ,  643.1  ,\n",
       "        642.7  ,  308.6  ,  466.1  ,  373.5  ,  322.1  ,   28.8  ,\n",
       "        254.3  ,  233.3  ,  917.   ,  170.6  ,  700.   ,  181.9  ,\n",
       "        429.   ,  248.85 ])"
      ]
     },
     "execution_count": 19,
     "metadata": {},
     "output_type": "execute_result"
    }
   ],
   "source": [
    "distance_SESNe"
   ]
  },
  {
   "cell_type": "code",
   "execution_count": 21,
   "metadata": {},
   "outputs": [
    {
     "name": "stdout",
     "output_type": "stream",
     "text": [
      "210.61519680851063\n",
      "82.76471428571428\n",
      "43.29484615384615\n"
     ]
    }
   ],
   "source": [
    "print(np.mean(distance_SESNe))\n",
    "print(np.mean(distance_SESNe_excludingIcBL))\n",
    "print(np.mean(distance_II))"
   ]
  },
  {
   "cell_type": "code",
   "execution_count": 22,
   "metadata": {},
   "outputs": [
    {
     "data": {
      "text/plain": [
       "[<matplotlib.lines.Line2D at 0x1139ff748>]"
      ]
     },
     "execution_count": 22,
     "metadata": {},
     "output_type": "execute_result"
    },
    {
     "data": {
      "image/png": "[encoded data removed]",
      "text/plain": [
       "<Figure size 432x288 with 1 Axes>"
      ]
     },
     "metadata": {},
     "output_type": "display_data"
    }
   ],
   "source": [
    "plt.plot(np.log10(distance_II), np.log10(ni_avg_II), 'o')\n",
    "#plt.plot(np.log10(distance_IIb), np.log10(ni_avg_IIb), 'o')\n",
    "#plt.plot(np.log10(distance_Ib), np.log10(ni_avg_Ib), 'o')\n",
    "#plt.plot(np.log10(distance_Ic), np.log10(ni_avg_Ic), 'o')\n",
    "\n",
    "plt.plot(np.log10(distance_SESNe), np.log10(ni_avg_SESNe), 'o')"
   ]
  },
  {
   "cell_type": "code",
   "execution_count": 23,
   "metadata": {},
   "outputs": [
    {
     "name": "stdout",
     "output_type": "stream",
     "text": [
      "[[1.        0.1596107]\n",
      " [0.1596107 1.       ]]\n",
      "-------------------\n",
      "[[1.         0.25312669]\n",
      " [0.25312669 1.        ]]\n",
      "-------------------\n",
      "[[1.         0.15944555]\n",
      " [0.15944555 1.        ]]\n",
      "-------------------\n",
      "[[1.        0.2246495]\n",
      " [0.2246495 1.       ]]\n",
      "-------------------\n",
      "[[1.         0.29466904]\n",
      " [0.29466904 1.        ]]\n",
      "==========\n",
      "[[1.         0.50651173]\n",
      " [0.50651173 1.        ]]\n"
     ]
    }
   ],
   "source": [
    "print(np.corrcoef(np.log10(distance_II), np.log10(ni_avg_II)))\n",
    "print(\"-------------------\")\n",
    "print(np.corrcoef(np.log10(distance_IIb), np.log10(ni_avg_IIb)))\n",
    "print(\"-------------------\")\n",
    "print(np.corrcoef(np.log10(distance_Ib), np.log10(ni_avg_Ib)))\n",
    "print(\"-------------------\")\n",
    "print(np.corrcoef(np.log10(distance_Ic), np.log10(ni_avg_Ic)))\n",
    "print(\"-------------------\")\n",
    "print(np.corrcoef(np.log10(distance_IcBL), np.log10(ni_avg_IcBL)))\n",
    "\n",
    "print(\"==========\")\n",
    "print(np.corrcoef(np.log10(distance_SESNe), np.log10(ni_avg_SESNe)))"
   ]
  },
  {
   "cell_type": "code",
   "execution_count": 32,
   "metadata": {},
   "outputs": [
    {
     "ename": "SyntaxError",
     "evalue": "unexpected EOF while parsing (<ipython-input-32-65ef9ad83ac9>, line 2)",
     "output_type": "error",
     "traceback": [
      "\u001b[0;36m  File \u001b[0;32m\"<ipython-input-32-65ef9ad83ac9>\"\u001b[0;36m, line \u001b[0;32m2\u001b[0m\n\u001b[0;31m    np.log10(distance_SESNe\u001b[0m\n\u001b[0m                           ^\u001b[0m\n\u001b[0;31mSyntaxError\u001b[0m\u001b[0;31m:\u001b[0m unexpected EOF while parsing\n"
     ]
    }
   ],
   "source": [
    "#print(np.corrcoef(np.log10(distance_SESNe), np.log10(ni_avg_SESNe)))"
   ]
  },
  {
   "cell_type": "code",
   "execution_count": 35,
   "metadata": {},
   "outputs": [
    {
     "data": {
      "text/plain": [
       "array([-0.97798426, -1.12493874, -0.88605665, -0.83179725, -1.02227639,\n",
       "       -0.838632  , -0.65757732, -0.61978876, -1.04383157, -0.92081875,\n",
       "       -1.        , -0.88605665, -1.3635121 , -1.02319166, -0.7212464 ,\n",
       "       -0.57675413, -1.        , -0.86327943, -1.15490196, -1.29242982,\n",
       "       -0.67778071, -1.39794001, -1.20065945,         nan, -0.71896663,\n",
       "       -0.99012437, -1.09691001, -1.07058107,         nan,         nan,\n",
       "               nan,         nan, -1.        , -0.19044029, -0.74472749,\n",
       "       -0.96940028, -0.77884668, -1.07058107, -0.64781748, -0.86966623,\n",
       "       -0.9788107 , -0.8096683 , -0.99783394, -0.18708664, -0.48148606,\n",
       "       -0.99567863, -0.67778071, -0.52287875, -1.07417243, -0.54257231,\n",
       "       -1.19382003, -0.65757732, -0.58087069, -0.7883456 , -0.98296666,\n",
       "       -1.36151074, -1.16749109, -0.78648224, -0.48851771, -1.05650548,\n",
       "       -0.45593196, -0.99567863, -0.65208481, -0.52287875,         nan,\n",
       "               nan, -1.13667714,         nan,         nan,         nan,\n",
       "               nan,         nan,         nan,         nan,         nan,\n",
       "       -0.43179828, -0.63827216, -0.82390874, -0.88605665, -0.85387196,\n",
       "       -0.22548303, -1.12320502, -0.79588002, -0.838632  , -0.61528826,\n",
       "       -0.79588002, -0.85949196, -0.74472749, -0.22914799, -1.08618615,\n",
       "       -0.79588002, -0.8096683 , -0.56066731, -0.38721614, -1.52287875,\n",
       "       -0.85387196, -0.48148606, -0.76955108, -0.63827216, -0.83268267,\n",
       "       -0.70996539, -0.95860731, -1.15614458, -0.67778071, -0.67571754,\n",
       "       -0.69897   , -0.61083392, -1.09691001, -1.24412514, -0.95860731,\n",
       "       -0.73282827, -0.90308999, -0.83268267, -0.18223637, -0.94309515,\n",
       "       -1.04575749,         nan, -0.67778071, -0.44977165,         nan,\n",
       "               nan, -1.12493874, -0.82390874, -0.44977165, -0.92081875,\n",
       "               nan,         nan,         nan, -0.86966623,         nan,\n",
       "               nan,         nan,         nan, -0.23418248, -1.05700041,\n",
       "       -0.44009337, -0.43438828, -0.25963731, -0.28399666, -0.45842076,\n",
       "       -0.33724217, -0.60467361, -0.14176366,  0.05728564,  0.17609126,\n",
       "       -0.40893539, -0.40252421, -0.12436006, -0.62782471,  0.31492006,\n",
       "       -0.45593196, -0.62433639, -0.04575749, -0.84163751, -0.27654433,\n",
       "               nan,         nan,         nan,         nan, -0.42481216,\n",
       "               nan,         nan,         nan,         nan,         nan,\n",
       "               nan,         nan,         nan, -0.43179828, -0.75945075,\n",
       "       -0.43889862,         nan, -0.32102662,         nan, -0.58838029,\n",
       "               nan,         nan,         nan, -0.7235382 , -0.61978876,\n",
       "               nan,         nan,         nan,         nan, -0.65757732,\n",
       "               nan, -0.25453483,         nan])"
      ]
     },
     "execution_count": 35,
     "metadata": {},
     "output_type": "execute_result"
    }
   ],
   "source": [
    "np.log10(distance_SESNe)\n",
    "np.log10(ni_avg_SESNe)"
   ]
  },
  {
   "cell_type": "code",
   "execution_count": 132,
   "metadata": {},
   "outputs": [
    {
     "data": {
      "text/plain": [
       "array([[nan, nan],\n",
       "       [nan,  1.]])"
      ]
     },
     "execution_count": 132,
     "metadata": {},
     "output_type": "execute_result"
    }
   ],
   "source": [
    "np.corrcoef(np.log10(distance_IIb), np.log10(ni_avg_IIb))#[0,1]"
   ]
  },
  {
   "cell_type": "code",
   "execution_count": 100,
   "metadata": {},
   "outputs": [
    {
     "data": {
      "text/plain": [
       "array([[1.        , 0.16517134],\n",
       "       [0.16517134, 1.        ]])"
      ]
     },
     "execution_count": 100,
     "metadata": {},
     "output_type": "execute_result"
    }
   ],
   "source": [
    "np.corrcoef(np.log10(distance_Ib), np.log10(ni_avg_Ib))"
   ]
  },
  {
   "cell_type": "code",
   "execution_count": null,
   "metadata": {},
   "outputs": [],
   "source": []
  }
 ],
 "metadata": {
  "kernelspec": {
   "display_name": "Python 3",
   "language": "python",
   "name": "python3"
  },
  "language_info": {
   "codemirror_mode": {
    "name": "ipython",
    "version": 3
   },
   "file_extension": ".py",
   "mimetype": "text/x-python",
   "name": "python",
   "nbconvert_exporter": "python",
   "pygments_lexer": "ipython3",
   "version": "3.6.9"
  }
 },
 "nbformat": 4,
 "nbformat_minor": 2
}
